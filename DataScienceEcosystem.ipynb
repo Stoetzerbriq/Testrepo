{
 "cells": [
  {
   "cell_type": "markdown",
   "id": "a616fe48-bc9f-45d8-a522-7d190e3c0bed",
   "metadata": {},
   "source": [
    "<h1> Data Science Tools and Ecosystem</h1>"
   ]
  },
  {
   "cell_type": "markdown",
   "id": "5adef434-2f1e-4503-a7b9-dac82ea6e132",
   "metadata": {},
   "source": [
    "In this notebook, Data Science Tools and Ecosystem are summarized."
   ]
  },
  {
   "cell_type": "markdown",
   "id": "788eba7c-e5f3-4730-82a7-4293c06bcbaf",
   "metadata": {},
   "source": [
    "<h2> Author </h2>\n",
    "\n",
    "Lasse Stoetzer"
   ]
  },
  {
   "cell_type": "markdown",
   "id": "dae834e3-bbfd-436a-bab9-f6f1ca55eae9",
   "metadata": {},
   "source": [
    "Objectives:\n",
    "\n",
    "- **List popular languages for Data Science**\n",
    "- **Introduce libraries used by Data Scientists**\n",
    "- **List Data Tools**\n",
    "- **Use some simple arithmetic expressions**"
   ]
  },
  {
   "cell_type": "markdown",
   "id": "555b47f9-e098-4f3f-bd8c-c3de030501a7",
   "metadata": {},
   "source": [
    "Some of the popular languages that Data Scientists use are:\n",
    "\n",
    "1. Python\n",
    "2. R\n",
    "3. SQL\n",
    "4. Java\n",
    "5. Julia\n",
    "6. C++"
   ]
  },
  {
   "cell_type": "markdown",
   "id": "b3541b40-69f5-471e-a4e5-c92c14d25159",
   "metadata": {},
   "source": [
    "Some of the commonly used libraries used by Data Scientists include:\n",
    "\n",
    "- Numpy\n",
    "- TensorFlow\n",
    "- Pandas\n",
    "- SciPy\n",
    "- SciKit-Learn\n",
    "- PyTorch"
   ]
  },
  {
   "cell_type": "markdown",
   "id": "775f0f17-36db-48bd-8d5f-6c28e660e8e6",
   "metadata": {},
   "source": [
    "<h3> Data Science Tools </h3>\n",
    "\n",
    "|No.   | Data Tools |\n",
    "|---|---|\n",
    "| 1  | Jupyter Notebooks|\n",
    "| 2  |RStudio |\n",
    "| 3  | Zeppelin Notebooks|"
   ]
  },
  {
   "cell_type": "markdown",
   "id": "e06a1c71-c779-4c0f-954b-eec492b0c4dd",
   "metadata": {},
   "source": [
    "<h3> Below are a few examples of evaluating arithmetic expressions in Python </h3>"
   ]
  },
  {
   "cell_type": "code",
   "execution_count": 1,
   "id": "3c72ebbc-5d7c-4915-bd2c-b4cff184a34b",
   "metadata": {},
   "outputs": [
    {
     "data": {
      "text/plain": [
       "17"
      ]
     },
     "execution_count": 1,
     "metadata": {},
     "output_type": "execute_result"
    }
   ],
   "source": [
    "# This a simple arithmetic expression to mutiply then add integers\n",
    "\n",
    "(3*4)+5"
   ]
  },
  {
   "cell_type": "code",
   "execution_count": 2,
   "id": "978a0649-41f3-4479-a2be-7a25794da573",
   "metadata": {},
   "outputs": [
    {
     "data": {
      "text/plain": [
       "3.3333333333333335"
      ]
     },
     "execution_count": 2,
     "metadata": {},
     "output_type": "execute_result"
    }
   ],
   "source": [
    "# This will convert 200 minutes to hours by diving by 60\n",
    "\n",
    "def hours(x):\n",
    "    h = x/60\n",
    "    return h\n",
    "\n",
    "hours(200)"
   ]
  }
 ],
 "metadata": {
  "kernelspec": {
   "display_name": "Python",
   "language": "python",
   "name": "conda-env-python-py"
  },
  "language_info": {
   "codemirror_mode": {
    "name": "ipython",
    "version": 3
   },
   "file_extension": ".py",
   "mimetype": "text/x-python",
   "name": "python",
   "nbconvert_exporter": "python",
   "pygments_lexer": "ipython3",
   "version": "3.7.12"
  }
 },
 "nbformat": 4,
 "nbformat_minor": 5
}
